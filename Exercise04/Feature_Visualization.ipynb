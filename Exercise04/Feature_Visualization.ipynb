{
 "cells": [
  {
   "cell_type": "markdown",
   "metadata": {},
   "source": [
    "# Exercise 1\n",
    "\n",
    "In this exercise we will implement a visualization technique based on:\n",
    "\n",
    "```\n",
    "Zeiler, Matthew D. and Fergus, Rob.\n",
    "\"Visualizing and Understanding Convolutional Networks\" in ECCV 2014\n",
    "http://arxiv.org/abs/1311.2901\n",
    "```\n",
    "\n",
    "We are interested in theinput occlusion technique. The main idea is to systematically cover parts of the input witha gray box and measure how much the output(classification score) changes at each location. The change is measured relatively to the actual (initial) prediction score of the trained model, given the same input. The intuition is that the rate of change in the output suggests the importance of the occluded region. Every square shown in the image was occludedonce and the rate of change of the classification (class sax, saxophone) was measured. \n",
    "\n",
    "This is shown as a simple heatmap on the right and superimposed on the image on the left. One can see that the actual saxophone is highly important for the image to be classified as sax, saxophone. Although the network was never told what to look at, it learned what part of the image makes it classify as saxophone, therefore, it learns a coarse localization of objects.\n",
    "\n",
    "<img src=\"data/sax_heat.jpg\">"
   ]
  },
  {
   "cell_type": "markdown",
   "metadata": {},
   "source": [
    "## Load ResNet 18 model from torchvision. Make sure it is pretrained on ImageNet. https://pytorch.org/docs/stable/torchvision/models.html"
   ]
  },
  {
   "cell_type": "code",
   "execution_count": null,
   "metadata": {},
   "outputs": [],
   "source": [
    ""
   ]
  },
  {
   "cell_type": "markdown",
   "metadata": {},
   "source": [
    "## Load and visualize input image with PIL."
   ]
  },
  {
   "cell_type": "code",
   "execution_count": null,
   "metadata": {},
   "outputs": [],
   "source": [
    "from PIL import Image\n",
    "from matplotlib import pyplot as plt\n",
    "%matplotlib inline\n",
    "\n",
    "input_image = Image.open('data/sax.jpg')\n",
    "\n",
    "plt.imshow(input_image)\n",
    "plt.title('Input')\n",
    "plt.show()"
   ]
  },
  {
   "cell_type": "markdown",
   "metadata": {},
   "source": [
    "## Preprocess the input image according to the original training. https://pytorch.org/docs/stable/torchvision/models.html"
   ]
  },
  {
   "cell_type": "code",
   "execution_count": null,
   "metadata": {},
   "outputs": [],
   "source": [
    ""
   ]
  },
  {
   "cell_type": "markdown",
   "metadata": {},
   "source": [
    "## Run the network on the full input and check the predicted class and probability.  Notice that the output is logits."
   ]
  },
  {
   "cell_type": "code",
   "execution_count": null,
   "metadata": {},
   "outputs": [],
   "source": [
    "import numpy as np\n",
    "\n",
    "def softmax(x):\n",
    "    \"\"\"Compute softmax values for each sets of scores in x.\"\"\"\n",
    "    e_x = np.exp(x - np.max(x))\n",
    "    return e_x / e_x.sum()"
   ]
  },
  {
   "cell_type": "code",
   "execution_count": null,
   "metadata": {},
   "outputs": [],
   "source": [
    ""
   ]
  },
  {
   "cell_type": "markdown",
   "metadata": {},
   "source": [
    "## Iteratively drop squares of 32 x 32 and run the network. Save the change in probabilities for the class of interest in probs_image."
   ]
  },
  {
   "cell_type": "code",
   "execution_count": null,
   "metadata": {},
   "outputs": [],
   "source": [
    "OCCLUSIONSIZE = 32\n",
    "probs_image = np.zeros((256,256), dtype=np.float32)\n",
    "\n",
    "for x in range(..):\n",
    "    for y in range(..):"
   ]
  },
  {
   "cell_type": "markdown",
   "metadata": {},
   "source": [
    "## Sumperimpose the heatmap on the image and plot the results as displayed on the top.  "
   ]
  },
  {
   "cell_type": "code",
   "execution_count": null,
   "metadata": {},
   "outputs": [],
   "source": [
    "# This function generates a colored heatmap from the input\n",
    "def heatmap(input, min=None, max=None):\n",
    "    \"\"\" Returns a RGB heatmap representation \"\"\"\n",
    "    if min is None:\n",
    "        min = np.amin(input)\n",
    "    if max is None:\n",
    "        max = np.amax(input)\n",
    "    rescaled = 255 * ((input - min) / (max - min + 0.001))\n",
    "    final = cv2.applyColorMap(rescaled.astype(np.uint8), cv2.COLORMAP_JET)\n",
    "    return final.astype(np.float32) / 255"
   ]
  },
  {
   "cell_type": "code",
   "execution_count": null,
   "metadata": {},
   "outputs": [],
   "source": [
    "from matplotlib import pyplot as plt\n",
    "import cv2\n",
    "%matplotlib inline"
   ]
  }
 ],
 "metadata": {
  "kernelspec": {
   "display_name": "Python 3",
   "language": "python",
   "name": "python3"
  },
  "language_info": {
   "codemirror_mode": {
    "name": "ipython",
    "version": 3.0
   },
   "file_extension": ".py",
   "mimetype": "text/x-python",
   "name": "python",
   "nbconvert_exporter": "python",
   "pygments_lexer": "ipython3",
   "version": "3.7.1"
  }
 },
 "nbformat": 4,
 "nbformat_minor": 0
}