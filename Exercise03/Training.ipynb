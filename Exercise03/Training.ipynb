{
 "cells": [
  {
   "cell_type": "code",
   "execution_count": 1,
   "metadata": {
    "colab": {},
    "colab_type": "code",
    "id": "gVgHFJyyEa8e"
   },
   "outputs": [],
   "source": [
    "%matplotlib inline\n",
    "%load_ext autoreload\n",
    "%autoreload 2"
   ]
  },
  {
   "cell_type": "markdown",
   "metadata": {
    "colab_type": "text",
    "id": "hZqtCenNEa8m"
   },
   "source": [
    "# Image Classification with Convolutional Neural Network\n",
    "\n",
    "In this exercise, we will train an image classification network with PyTorch.\n",
    "We will use CIFAR-10 Dataset which consists of 10 object classes. \n",
    "\n",
    "Here are the official API documentation for each component. \n",
    "\n",
    "* Layers in torch.nn package: http://pytorch.org/docs/stable/nn.html\n",
    "* Activations: http://pytorch.org/docs/stable/nn.html#non-linear-activations\n",
    "* Loss functions: http://pytorch.org/docs/stable/nn.html#loss-functions\n",
    "* Optimizers: http://pytorch.org/docs/stable/optim.html\n",
    "\n",
    "\n",
    "## Training a classifier\n",
    "\n",
    "These steps will be followed:\n",
    "\n",
    "1. Load CIFAR10 training dataset and split into train and val split.\n",
    "\n",
    "2. Load the Convolutional Neural Network.\n",
    "\n",
    "3. Complete the evaluation code.\n",
    "\n",
    "4. Complete the training code.\n",
    "\n",
    "5. Define optimizer and criterion.\n",
    "\n",
    "6. Train the models. \n"
   ]
  },
  {
   "cell_type": "markdown",
   "metadata": {
    "colab_type": "text",
    "id": "-aBtgCB-Ea8o"
   },
   "source": [
    "## 1. Load the dataset "
   ]
  },
  {
   "cell_type": "code",
   "execution_count": 2,
   "metadata": {
    "colab": {},
    "colab_type": "code",
    "id": "idnOVEDVEa8p"
   },
   "outputs": [],
   "source": [
    "import torch\n",
    "import torchvision\n",
    "import torchvision.transforms as transforms\n",
    "from copy import deepcopy"
   ]
  },
  {
   "cell_type": "code",
   "execution_count": 3,
   "metadata": {
    "colab": {
     "base_uri": "https://localhost:8080/",
     "height": 83,
     "referenced_widgets": [
      "5056bef3389f4b35bbd264f86f774753",
      "fb23f4705eea40f8a452db88c43a5933",
      "e52e7f92fdf84d5dbc628c59a6381ee2",
      "8c4ef07a86fc4720a9b21b0dd56e5751",
      "fd8af37706c94630b4d70dc572ebbee9",
      "ef529408d30a40d298b64edf9482b8d4",
      "ea91f2718e7a4e569c4df3630ab3180f",
      "60a0696069e249cb9877f02934f5c0be"
     ]
    },
    "colab_type": "code",
    "id": "k39DrheyEa8u",
    "outputId": "6b702550-639d-40b7-a296-e598dcf3a36f"
   },
   "outputs": [
    {
     "name": "stdout",
     "output_type": "stream",
     "text": [
      "Files already downloaded and verified\n"
     ]
    }
   ],
   "source": [
    "# Create train/val split (45k/5k)\n",
    "\n",
    "transform = transforms.Compose(\n",
    "    [transforms.ToTensor(),\n",
    "     transforms.Normalize(mean=[0.485, 0.456, 0.406],\n",
    "                                 std=[0.229, 0.224, 0.225])])\n",
    "\n",
    "trainset = torchvision.datasets.CIFAR10(root='./data', train=True,\n",
    "                                        download=True, transform=transform)\n",
    "\n",
    "trainset, valset = torch.utils.data.random_split(trainset, [45000, 5000])\n",
    "\n",
    "trainloader = torch.utils.data.DataLoader(trainset, batch_size=4,\n",
    "                                          shuffle=True, num_workers=2)\n",
    "\n",
    "valloader = torch.utils.data.DataLoader(valset, batch_size=4,\n",
    "                                          shuffle=True, num_workers=2)\n",
    "\n",
    "classes = ('plane', 'car', 'bird', 'cat',\n",
    "           'deer', 'dog', 'frog', 'horse', 'ship', 'truck')"
   ]
  },
  {
   "cell_type": "code",
   "execution_count": 4,
   "metadata": {
    "colab": {
     "base_uri": "https://localhost:8080/",
     "height": 209
    },
    "colab_type": "code",
    "id": "LgVh5ZDrEa9B",
    "outputId": "115418e2-8b65-43cc-b17b-9a0ff4c72d3f"
   },
   "outputs": [
    {
     "name": "stderr",
     "output_type": "stream",
     "text": [
      "Clipping input data to the valid range for imshow with RGB data ([0..1] for floats or [0..255] for integers).\n"
     ]
    },
    {
     "name": "stdout",
     "output_type": "stream",
     "text": [
      "horse   car plane  frog\n"
     ]
    },
    {
     "data": {
      "image/png": "[encoded data removed]",
      "text/plain": [
       "<Figure size 432x288 with 1 Axes>"
      ]
     },
     "metadata": {
      "needs_background": "light"
     },
     "output_type": "display_data"
    }
   ],
   "source": [
    "import matplotlib.pyplot as plt\n",
    "import numpy as np\n",
    "\n",
    "# functions to show an image\n",
    "def imshow(img):\n",
    "    img = img / 2 + 0.5     # unnormalize\n",
    "    npimg = img.numpy()\n",
    "    plt.imshow(np.transpose(npimg, (1, 2, 0)))\n",
    "\n",
    "\n",
    "# get some random training images\n",
    "dataiter = iter(trainloader)\n",
    "images, labels = dataiter.next()\n",
    "\n",
    "# show images\n",
    "imshow(torchvision.utils.make_grid(images))\n",
    "# print labels\n",
    "print(' '.join('%5s' % classes[labels[j]] for j in range(4)))"
   ]
  },
  {
   "cell_type": "markdown",
   "metadata": {
    "colab_type": "text",
    "id": "6BYHtVFFEa9H"
   },
   "source": [
    "You have an option to **use GPU by setting the flag to True below**. It is not necessary to use GPU for this assignment but it is highly recommended. Note that if your computer does not have CUDA enabled, `torch.cuda.is_available()` will return False and this notebook will fallback to CPU mode.\n",
    "\n",
    "The global variable `device` will control the data types throughout this assignment. "
   ]
  },
  {
   "cell_type": "code",
   "execution_count": 5,
   "metadata": {
    "colab": {
     "base_uri": "https://localhost:8080/",
     "height": 34
    },
    "colab_type": "code",
    "id": "roaAEZG8Ea9L",
    "outputId": "1777c0a7-f962-4d09-e0e0-ae15a506b32b"
   },
   "outputs": [
    {
     "name": "stdout",
     "output_type": "stream",
     "text": [
      "using device: cuda\n"
     ]
    }
   ],
   "source": [
    "USE_GPU = True\n",
    "\n",
    "dtype = torch.float32 # we will be using float throughout this tutorial\n",
    "\n",
    "if USE_GPU and torch.cuda.is_available():\n",
    "    device = torch.device('cuda')\n",
    "else:\n",
    "    device = torch.device('cpu')\n",
    "\n",
    "# Constant to control how frequently we print train loss\n",
    "print_every = 100\n",
    "\n",
    "print('using device:', device)"
   ]
  },
  {
   "cell_type": "markdown",
   "metadata": {
    "colab_type": "text",
    "id": "72k6GRSqEa9Q"
   },
   "source": [
    "## 2. Load a Convolutional Neural Network\n",
    "\n",
    "Load an existing CNN architecture from torchvision, namely ResNet18. There is a nice blogpost explaining the ResNet architectures here: https://medium.com/@14prakash/understanding-and-implementing-architectures-of-resnet-and-resnext-for-state-of-the-art-image-cf51669e1624\n",
    "\n",
    "Torchvision provides a pretrained ResNet18 model, however on ImageNet dataset which has 1000 classes. In our case, we need to modify the last layer of the model so that it predicts 10 classes."
   ]
  },
  {
   "cell_type": "code",
   "execution_count": 6,
   "metadata": {
    "colab": {},
    "colab_type": "code",
    "id": "BinPU3s1Ea9R"
   },
   "outputs": [],
   "source": [
    "import torch.nn as nn\n",
    "import torch.nn.functional as F\n",
    "import torchvision.models as models"
   ]
  },
  {
   "cell_type": "code",
   "execution_count": 7,
   "metadata": {
    "colab": {
     "base_uri": "https://localhost:8080/",
     "height": 103,
     "referenced_widgets": [
      "d1d83cccf4ff40a4b239af0c2638089c",
      "99565899e53545f58bd6d2e7a94e778b",
      "cf69c78c8479414eb7ed8c64f1996d24",
      "34bb839dbeea487684269a6b5e94d8df",
      "a69b0d330d7c459289cbd94ae90445b7",
      "be9618e658a44a7f88008b9ae1c775eb",
      "5a3690d83c6f4e3689429f705aac548e",
      "7c698661d6db44beb5e8525f0ac2dc5e"
     ]
    },
    "colab_type": "code",
    "id": "_K2aLpydEa9m",
    "outputId": "bf02537a-5089-4ddc-ad58-dac832710504"
   },
   "outputs": [],
   "source": [
    "## Load Resnet18 from torchvision.\n",
    "model = models.resnet18(pretrained=False)\n",
    "num_ftrs = model.fc.in_features\n",
    "model.fc = nn.Linear(num_ftrs, 10)"
   ]
  },
  {
   "cell_type": "code",
   "execution_count": 8,
   "metadata": {
    "colab": {},
    "colab_type": "code",
    "id": "dh6nSMF-FOgw"
   },
   "outputs": [],
   "source": [
    "# Send model to device.\n",
    "model = model.to(device=device)"
   ]
  },
  {
   "cell_type": "markdown",
   "metadata": {
    "colab_type": "text",
    "id": "nNfcsAW6Ea98"
   },
   "source": [
    "## 3. Complete the evaluation loop\n",
    "\n",
    "Check the accuracy before training the model. You need to complete the evaluation code in \"evaluation.py\""
   ]
  },
  {
   "cell_type": "code",
   "execution_count": 9,
   "metadata": {
    "colab": {
     "base_uri": "https://localhost:8080/",
     "height": 34
    },
    "colab_type": "code",
    "id": "nWjjiZ5KP5LE",
    "outputId": "1e28303f-ca69-4957-8fb7-b0fe37ee4837"
   },
   "outputs": [
    {
     "name": "stdout",
     "output_type": "stream",
     "text": [
      "Got 538 / 5000 correct (10.76)\n"
     ]
    }
   ],
   "source": [
    "from evaluation import check_accuracy\n",
    "\n",
    "# TODO: complete the check_accuracy function. Check the validation split accuracy.\n",
    "check_accuracy(valloader, model, device)\n"
   ]
  },
  {
   "cell_type": "markdown",
   "metadata": {
    "colab_type": "text",
    "id": "MP5gX6iCP5LG"
   },
   "source": [
    "## Initiate the Tensorboard writer"
   ]
  },
  {
   "cell_type": "code",
   "execution_count": 10,
   "metadata": {
    "colab": {},
    "colab_type": "code",
    "id": "t6qbxdjSP5LH"
   },
   "outputs": [],
   "source": [
    "from torch.utils.tensorboard import SummaryWriter\n",
    "\n",
    "writer = SummaryWriter('runs/cifar10_experiments_resnet')"
   ]
  },
  {
   "cell_type": "markdown",
   "metadata": {
    "colab_type": "text",
    "id": "YPUm06rZEa-K"
   },
   "source": [
    "## 4. Complete the training loop"
   ]
  },
  {
   "cell_type": "code",
   "execution_count": 11,
   "metadata": {
    "colab": {},
    "colab_type": "code",
    "id": "V7tCHNGZEa-M"
   },
   "outputs": [],
   "source": [
    "\n",
    "## TODO: Complete the train_model function.\n",
    "\n",
    "def train_model(model, criterion, optimizer, epochs=1):\n",
    "    \"\"\"\n",
    "    Train a model on CIFAR-10 using the PyTorch Module API.\n",
    "    \n",
    "    Inputs:\n",
    "    - model: A PyTorch Module giving the model to train.\n",
    "    - optimizer: An Optimizer object we will use to train the model\n",
    "    - epochs: (Optional) A Python integer giving the number of epochs to train for\n",
    "    \n",
    "    Returns: Nothing, but prints model accuracies during training.\n",
    "    \"\"\"\n",
    "    model = model.to(device=device)  # move the model parameters to CPU/GPU\n",
    "    running_loss = 0.0\n",
    "    for epoch in range(epochs):\n",
    "        for i, data in enumerate(trainloader):\n",
    "            \n",
    "            ## TODO: Set model to training mode\n",
    "            model.train()\n",
    "            \n",
    "            inputs, labels = data\n",
    "            inputs = inputs.to(device=device, dtype=dtype)  # move to device, e.g. GPU\n",
    "            labels = labels.to(device=device, dtype=torch.long)\n",
    "\n",
    "            ## TODO: Run the model with input data.\n",
    "            outputs = model(inputs)\n",
    "            \n",
    "            ## TODO: Estimate the loss by using the criterion.\n",
    "            loss = criterion(outputs, labels)\n",
    "\n",
    "            ## TODO: Zero out all of the gradients for the variables which the optimizer\n",
    "            ## will update.\n",
    "            optimizer.zero_grad()\n",
    "\n",
    "            ## TODO: Backward pass. Compute the gradient of the loss with\n",
    "            ## respect to each  parameter of the model.\n",
    "            loss.backward()\n",
    "\n",
    "            ## TODO: Actually update the parameters of the model using the gradients\n",
    "            ## computed by the backwards pass.\n",
    "            optimizer.step()\n",
    "\n",
    "            # print statistics\n",
    "            running_loss += loss.item()\n",
    "            if i % 2000 == 1999:    # print every 2000 mini-batches\n",
    "                print('[%d, %5d] Running loss: %.3f' %\n",
    "                      (epoch + 1, i + 1, running_loss / 2000))\n",
    "                \n",
    "                # Append statistics to tensorboard\n",
    "                writer.add_scalar('training loss',\n",
    "                            running_loss / 2000,\n",
    "                            len(trainloader)/1000 * epoch + (i+1) /1000)\n",
    "                \n",
    "                running_loss = 0.0\n",
    "\n",
    "        # Check accuracy on validation set\n",
    "        check_accuracy(valloader, model, device)\n",
    "        print()"
   ]
  },
  {
   "cell_type": "markdown",
   "metadata": {
    "colab_type": "text",
    "id": "KMsLrxTVEa-R"
   },
   "source": [
    "## 5. Define the optimizer and the criterion\n"
   ]
  },
  {
   "cell_type": "code",
   "execution_count": 12,
   "metadata": {
    "colab": {},
    "colab_type": "code",
    "id": "DvaCRTiPEa-S"
   },
   "outputs": [],
   "source": [
    "import torch.optim as optim\n",
    "\n",
    "## TODO: Define the optimizer the function, adjust learning rate (eg. 0.1, 0.01, 0.001)\n",
    "optimizer = optim.SGD(model.parameters(), lr=0.001, momentum=0.9)\n",
    "## TODO: Define the loss criterion\n",
    "criterion = nn.CrossEntropyLoss()"
   ]
  },
  {
   "cell_type": "markdown",
   "metadata": {
    "colab_type": "text",
    "id": "QbfszqG8Ea-W"
   },
   "source": [
    "## 6. Train the Model and Evaluate on Full Test Data\n"
   ]
  },
  {
   "cell_type": "code",
   "execution_count": 13,
   "metadata": {
    "colab": {
     "base_uri": "https://localhost:8080/",
     "height": 392
    },
    "colab_type": "code",
    "id": "Ua2Fr9mzEa-X",
    "outputId": "856f0534-c64d-4744-c1ec-de8d96bf8401"
   },
   "outputs": [
    {
     "name": "stdout",
     "output_type": "stream",
     "text": [
      "[1,  2000] Running loss: 2.357\n",
      "[1,  4000] Running loss: 2.072\n",
      "[1,  6000] Running loss: 1.943\n",
      "[1,  8000] Running loss: 1.857\n",
      "[1, 10000] Running loss: 1.776\n",
      "Got 2249 / 5000 correct (44.98)\n",
      "\n",
      "[2,  2000] Running loss: 2.699\n",
      "[2,  4000] Running loss: 1.582\n",
      "[2,  6000] Running loss: 1.565\n",
      "[2,  8000] Running loss: 1.501\n",
      "[2, 10000] Running loss: 1.445\n",
      "Got 2888 / 5000 correct (57.76)\n",
      "\n",
      "[3,  2000] Running loss: 2.262\n",
      "[3,  4000] Running loss: 1.295\n",
      "[3,  6000] Running loss: 1.329\n",
      "[3,  8000] Running loss: 1.267\n",
      "[3, 10000] Running loss: 1.262\n",
      "Got 3120 / 5000 correct (62.40)\n",
      "\n",
      "[4,  2000] Running loss: 1.957\n",
      "[4,  4000] Running loss: 1.175\n",
      "[4,  6000] Running loss: 1.144\n",
      "[4,  8000] Running loss: 1.128\n",
      "[4, 10000] Running loss: 1.098\n",
      "Got 3194 / 5000 correct (63.88)\n",
      "\n",
      "[5,  2000] Running loss: 1.726\n",
      "[5,  4000] Running loss: 1.053\n",
      "[5,  6000] Running loss: 1.016\n",
      "[5,  8000] Running loss: 1.042\n",
      "[5, 10000] Running loss: 0.992\n",
      "Got 3307 / 5000 correct (66.14)\n",
      "\n",
      "[6,  2000] Running loss: 1.548\n",
      "[6,  4000] Running loss: 0.955\n",
      "[6,  6000] Running loss: 0.908\n",
      "[6,  8000] Running loss: 0.927\n",
      "[6, 10000] Running loss: 0.936\n",
      "Got 3417 / 5000 correct (68.34)\n",
      "\n",
      "[7,  2000] Running loss: 1.411\n",
      "[7,  4000] Running loss: 0.850\n",
      "[7,  6000] Running loss: 0.856\n",
      "[7,  8000] Running loss: 0.858\n",
      "[7, 10000] Running loss: 0.837\n",
      "Got 3510 / 5000 correct (70.20)\n",
      "\n",
      "[8,  2000] Running loss: 1.260\n",
      "[8,  4000] Running loss: 0.771\n",
      "[8,  6000] Running loss: 0.779\n",
      "[8,  8000] Running loss: 0.773\n",
      "[8, 10000] Running loss: 0.797\n",
      "Got 3502 / 5000 correct (70.04)\n",
      "\n",
      "[9,  2000] Running loss: 1.265\n",
      "[9,  4000] Running loss: 0.718\n",
      "[9,  6000] Running loss: 0.747\n",
      "[9,  8000] Running loss: 0.714\n",
      "[9, 10000] Running loss: 0.729\n",
      "Got 3591 / 5000 correct (71.82)\n",
      "\n",
      "[10,  2000] Running loss: 1.082\n",
      "[10,  4000] Running loss: 0.661\n",
      "[10,  6000] Running loss: 0.637\n",
      "[10,  8000] Running loss: 0.670\n",
      "[10, 10000] Running loss: 0.654\n",
      "Got 3639 / 5000 correct (72.78)\n",
      "\n"
     ]
    }
   ],
   "source": [
    "## TODO: Train model.\n",
    "train_model(model, criterion, optimizer, epochs=10)"
   ]
  },
  {
   "cell_type": "code",
   "execution_count": 14,
   "metadata": {
    "colab": {
     "base_uri": "https://localhost:8080/",
     "height": 34
    },
    "colab_type": "code",
    "id": "Dtvnsqb4Ea-c",
    "outputId": "ce8c93e0-6e55-4904-fec1-f89f06bfa4ae"
   },
   "outputs": [
    {
     "name": "stdout",
     "output_type": "stream",
     "text": [
      "Got 3639 / 5000 correct (72.78)\n"
     ]
    }
   ],
   "source": [
    "## TODO: Check validation accuracy.\n",
    "check_accuracy(valloader, model, device)"
   ]
  },
  {
   "cell_type": "markdown",
   "metadata": {
    "colab_type": "text",
    "id": "bUjAnRV5Ea-q"
   },
   "source": [
    "### Save this model as a checkpoint."
   ]
  },
  {
   "cell_type": "code",
   "execution_count": 15,
   "metadata": {
    "colab": {},
    "colab_type": "code",
    "id": "Xz4nweapP5LU"
   },
   "outputs": [],
   "source": [
    "## TODO: Here, you need to use a specific pytorch function to save the model.\n",
    "file_name = \"resnet_cifar.pth\"\n",
    "torch.save(model.state_dict(), file_name)"
   ]
  },
  {
   "cell_type": "markdown",
   "metadata": {
    "colab_type": "text",
    "id": "_akmyAt4Ea-x"
   },
   "source": [
    "## 7. Now, train the CNN you have defined in previous exercise. \n",
    "\n",
    "Successfully training this network should result in approximately **70% validation accuracy.**\n"
   ]
  },
  {
   "cell_type": "code",
   "execution_count": 16,
   "metadata": {
    "colab": {},
    "colab_type": "code",
    "id": "BYkT8JKdEa-z"
   },
   "outputs": [],
   "source": [
    "from graph import Net\n",
    "\n",
    "## Todo: Initiate your own network\n",
    "net = Net()\n",
    "writer = SummaryWriter('runs/cifar10_experiments_mygraph')"
   ]
  },
  {
   "cell_type": "code",
   "execution_count": 17,
   "metadata": {
    "colab": {
     "base_uri": "https://localhost:8080/",
     "height": 341
    },
    "colab_type": "code",
    "id": "E3ExkEDBEa-3",
    "outputId": "3cfd094c-8025-4209-89ad-5af976a7bb68"
   },
   "outputs": [],
   "source": [
    "## TODO: Define the optimizer the function, adjust learning rate\n",
    "optimizer = optim.SGD(net.parameters(), lr=0.001, momentum=0.9)\n",
    "\n",
    "## TODO: Define the loss criterion\n",
    "criterion = nn.CrossEntropyLoss()"
   ]
  },
  {
   "cell_type": "code",
   "execution_count": 18,
   "metadata": {},
   "outputs": [
    {
     "name": "stdout",
     "output_type": "stream",
     "text": [
      "[1,  2000] Running loss: 2.060\n",
      "[1,  4000] Running loss: 1.680\n",
      "[1,  6000] Running loss: 1.514\n",
      "[1,  8000] Running loss: 1.419\n",
      "[1, 10000] Running loss: 1.331\n",
      "Got 2780 / 5000 correct (55.60)\n",
      "\n",
      "[2,  2000] Running loss: 1.969\n",
      "[2,  4000] Running loss: 1.102\n",
      "[2,  6000] Running loss: 1.065\n",
      "[2,  8000] Running loss: 1.038\n",
      "[2, 10000] Running loss: 0.989\n",
      "Got 3319 / 5000 correct (66.38)\n",
      "\n",
      "[3,  2000] Running loss: 1.512\n",
      "[3,  4000] Running loss: 0.896\n",
      "[3,  6000] Running loss: 0.883\n",
      "[3,  8000] Running loss: 0.876\n",
      "[3, 10000] Running loss: 0.844\n",
      "Got 3501 / 5000 correct (70.02)\n",
      "\n",
      "[4,  2000] Running loss: 1.271\n",
      "[4,  4000] Running loss: 0.771\n",
      "[4,  6000] Running loss: 0.762\n",
      "[4,  8000] Running loss: 0.748\n",
      "[4, 10000] Running loss: 0.757\n",
      "Got 3531 / 5000 correct (70.62)\n",
      "\n",
      "[5,  2000] Running loss: 1.126\n",
      "[5,  4000] Running loss: 0.662\n",
      "[5,  6000] Running loss: 0.677\n",
      "[5,  8000] Running loss: 0.675\n",
      "[5, 10000] Running loss: 0.692\n",
      "Got 3638 / 5000 correct (72.76)\n",
      "\n",
      "[6,  2000] Running loss: 0.992\n",
      "[6,  4000] Running loss: 0.592\n",
      "[6,  6000] Running loss: 0.608\n",
      "[6,  8000] Running loss: 0.621\n",
      "[6, 10000] Running loss: 0.619\n",
      "Got 3689 / 5000 correct (73.78)\n",
      "\n",
      "[7,  2000] Running loss: 0.879\n",
      "[7,  4000] Running loss: 0.512\n",
      "[7,  6000] Running loss: 0.541\n",
      "[7,  8000] Running loss: 0.566\n",
      "[7, 10000] Running loss: 0.574\n",
      "Got 3700 / 5000 correct (74.00)\n",
      "\n",
      "[8,  2000] Running loss: 0.806\n",
      "[8,  4000] Running loss: 0.475\n",
      "[8,  6000] Running loss: 0.496\n",
      "[8,  8000] Running loss: 0.507\n",
      "[8, 10000] Running loss: 0.526\n",
      "Got 3814 / 5000 correct (76.28)\n",
      "\n",
      "[9,  2000] Running loss: 0.738\n",
      "[9,  4000] Running loss: 0.444\n",
      "[9,  6000] Running loss: 0.462\n",
      "[9,  8000] Running loss: 0.479\n",
      "[9, 10000] Running loss: 0.503\n",
      "Got 3646 / 5000 correct (72.92)\n",
      "\n",
      "[10,  2000] Running loss: 0.670\n",
      "[10,  4000] Running loss: 0.417\n",
      "[10,  6000] Running loss: 0.418\n",
      "[10,  8000] Running loss: 0.473\n",
      "[10, 10000] Running loss: 0.472\n",
      "Got 3484 / 5000 correct (69.68)\n",
      "\n"
     ]
    }
   ],
   "source": [
    "## TODO: Train the model\n",
    "train_model(net, criterion, optimizer, epochs=10)"
   ]
  },
  {
   "cell_type": "code",
   "execution_count": 19,
   "metadata": {
    "colab": {
     "base_uri": "https://localhost:8080/",
     "height": 34
    },
    "colab_type": "code",
    "id": "9lVHNg54Ea-7",
    "outputId": "4a924f6c-c4f3-4597-823a-aa627dbd33d9"
   },
   "outputs": [
    {
     "name": "stdout",
     "output_type": "stream",
     "text": [
      "Got 3484 / 5000 correct (69.68)\n"
     ]
    }
   ],
   "source": [
    "# TODO: Report the accuracy on validation split.\n",
    "check_accuracy(valloader, net, device)"
   ]
  },
  {
   "cell_type": "code",
   "execution_count": 20,
   "metadata": {
    "colab": {},
    "colab_type": "code",
    "id": "nli9Lxo6P5Le"
   },
   "outputs": [],
   "source": [
    "## TODO: Save the model checkpoint.\n",
    "file_name = \"mygraph.pth\"\n",
    "torch.save(net.state_dict(), file_name)"
   ]
  },
  {
   "cell_type": "markdown",
   "metadata": {
    "colab_type": "text",
    "id": "ONEkVS2eVcmn"
   },
   "source": [
    "Additionally, you can check the number of parameters in your model with this function:"
   ]
  },
  {
   "cell_type": "code",
   "execution_count": 21,
   "metadata": {
    "colab": {},
    "colab_type": "code",
    "id": "76VqaTcHT3JG"
   },
   "outputs": [],
   "source": [
    "def count_parameters(model):\n",
    "    return sum(p.numel() for p in model.parameters() if p.requires_grad)"
   ]
  },
  {
   "cell_type": "code",
   "execution_count": 22,
   "metadata": {
    "colab": {
     "base_uri": "https://localhost:8080/",
     "height": 34
    },
    "colab_type": "code",
    "id": "3mMG_UU3T331",
    "outputId": "d45d6c4d-39eb-4247-a3b0-8ee7a6cce36c"
   },
   "outputs": [
    {
     "data": {
      "text/plain": [
       "922378"
      ]
     },
     "execution_count": 22,
     "metadata": {},
     "output_type": "execute_result"
    }
   ],
   "source": [
    "count_parameters(net)"
   ]
  },
  {
   "cell_type": "code",
   "execution_count": 23,
   "metadata": {
    "colab": {
     "base_uri": "https://localhost:8080/",
     "height": 34
    },
    "colab_type": "code",
    "id": "pkS8QUBJUNAr",
    "outputId": "7bb8e089-c9bb-4db8-d00d-a3f106d42b28"
   },
   "outputs": [
    {
     "data": {
      "text/plain": [
       "11181642"
      ]
     },
     "execution_count": 23,
     "metadata": {},
     "output_type": "execute_result"
    }
   ],
   "source": [
    "count_parameters(model)"
   ]
  },
  {
   "cell_type": "markdown",
   "metadata": {
    "colab_type": "text",
    "id": "OWEGh6lOEa_A"
   },
   "source": [
    "## Bonus Question:\n",
    "\n",
    "Experiment with any architectures, optimizers and hyperparameters. \n",
    "Write out your observations. Which model performs better and why? You can even try to get the best accuracy for CIFAR-10. \n",
    "    \n",
    "\n",
    "### Some possibilities to try:\n",
    "- **Filter size**: Above we used 5x5; would smaller filters be more efficient?\n",
    "- **Number of filters**: Above we used 32 filters. Do more or fewer do better?\n",
    "- **Pooling vs Strided Convolution**: Do you use max pooling or just stride convolutions?\n",
    "- **Alternative optimizers**: you can try Adam, Adagrad, RMSprop, etc.\n",
    "- **Alternative activation functions**: such as leaky ReLU, parametric ReLU, ELU, or MaxOut.\n",
    "- **Regularization**: Add l2 weight regularization, or perhaps use Dropout.\n",
    "- **Model ensembles**\n",
    "- **Data augmentation**\n",
    "- **Batch normalization**: Try adding spatial batch normalization after convolution layers and vanilla batch normalization after affine layers. Do your networks train faster?\n",
    "- **Network architecture**: The network above has two layers of trainable parameters. Can you do better with a deep network? Good architectures to try include:\n",
    "    - [conv-relu-pool]xN -> [affine]xM -> [softmax or SVM]\n",
    "    - [conv-relu-conv-relu-pool]xN -> [affine]xM -> [softmax or SVM]\n",
    "    - [batchnorm-relu-conv]xN -> [affine]xM -> [softmax or SVM]\n",
    "- **Global Average Pooling**: Instead of flattening and then having multiple affine layers, perform convolutions until your image gets small (7x7 or so) and then perform an average pooling operation to get to a 1x1 image picture (1, 1 , Filter#), which is then reshaped into a (Filter#) vector. This is used in [Google's Inception Network](https://arxiv.org/abs/1512.00567) (See Table 1 for their architecture).\n",
    "\n",
    "\n",
    "\n",
    "## Answer:\n",
    "\n",
    "[FILL THIS IN]"
   ]
  },
  {
   "cell_type": "code",
   "execution_count": null,
   "metadata": {
    "colab": {},
    "colab_type": "code",
    "id": "rX9dV499Ea_B"
   },
   "outputs": [],
   "source": []
  }
 ],
 "metadata": {
  "accelerator": "GPU",
  "colab": {
   "collapsed_sections": [],
   "name": "Training.ipynb",
   "provenance": [],
   "toc_visible": true
  },
  "kernelspec": {
   "display_name": "Python 3",
   "language": "python",
   "name": "python3"
  },
  "language_info": {
   "codemirror_mode": {
    "name": "ipython",
    "version": 3
   },
   "file_extension": ".py",
   "mimetype": "text/x-python",
   "name": "python",
   "nbconvert_exporter": "python",
   "pygments_lexer": "ipython3",
   "version": "3.7.5"
  },
  "widgets": {
   "application/vnd.jupyter.widget-state+json": {
    "34bb839dbeea487684269a6b5e94d8df": {
     "model_module": "@jupyter-widgets/controls",
     "model_name": "HTMLModel",
     "state": {
      "_dom_classes": [],
      "_model_module": "@jupyter-widgets/controls",
      "_model_module_version": "1.5.0",
      "_model_name": "HTMLModel",
      "_view_count": null,
      "_view_module": "@jupyter-widgets/controls",
      "_view_module_version": "1.5.0",
      "_view_name": "HTMLView",
      "description": "",
      "description_tooltip": null,
      "layout": "IPY_MODEL_7c698661d6db44beb5e8525f0ac2dc5e",
      "placeholder": "​",
      "style": "IPY_MODEL_5a3690d83c6f4e3689429f705aac548e",
      "value": " 44.7M/44.7M [00:00&lt;00:00, 88.4MB/s]"
     }
    },
    "5056bef3389f4b35bbd264f86f774753": {
     "model_module": "@jupyter-widgets/controls",
     "model_name": "HBoxModel",
     "state": {
      "_dom_classes": [],
      "_model_module": "@jupyter-widgets/controls",
      "_model_module_version": "1.5.0",
      "_model_name": "HBoxModel",
      "_view_count": null,
      "_view_module": "@jupyter-widgets/controls",
      "_view_module_version": "1.5.0",
      "_view_name": "HBoxView",
      "box_style": "",
      "children": [
       "IPY_MODEL_e52e7f92fdf84d5dbc628c59a6381ee2",
       "IPY_MODEL_8c4ef07a86fc4720a9b21b0dd56e5751"
      ],
      "layout": "IPY_MODEL_fb23f4705eea40f8a452db88c43a5933"
     }
    },
    "5a3690d83c6f4e3689429f705aac548e": {
     "model_module": "@jupyter-widgets/controls",
     "model_name": "DescriptionStyleModel",
     "state": {
      "_model_module": "@jupyter-widgets/controls",
      "_model_module_version": "1.5.0",
      "_model_name": "DescriptionStyleModel",
      "_view_count": null,
      "_view_module": "@jupyter-widgets/base",
      "_view_module_version": "1.2.0",
      "_view_name": "StyleView",
      "description_width": ""
     }
    },
    "60a0696069e249cb9877f02934f5c0be": {
     "model_module": "@jupyter-widgets/base",
     "model_name": "LayoutModel",
     "state": {
      "_model_module": "@jupyter-widgets/base",
      "_model_module_version": "1.2.0",
      "_model_name": "LayoutModel",
      "_view_count": null,
      "_view_module": "@jupyter-widgets/base",
      "_view_module_version": "1.2.0",
      "_view_name": "LayoutView",
      "align_content": null,
      "align_items": null,
      "align_self": null,
      "border": null,
      "bottom": null,
      "display": null,
      "flex": null,
      "flex_flow": null,
      "grid_area": null,
      "grid_auto_columns": null,
      "grid_auto_flow": null,
      "grid_auto_rows": null,
      "grid_column": null,
      "grid_gap": null,
      "grid_row": null,
      "grid_template_areas": null,
      "grid_template_columns": null,
      "grid_template_rows": null,
      "height": null,
      "justify_content": null,
      "justify_items": null,
      "left": null,
      "margin": null,
      "max_height": null,
      "max_width": null,
      "min_height": null,
      "min_width": null,
      "object_fit": null,
      "object_position": null,
      "order": null,
      "overflow": null,
      "overflow_x": null,
      "overflow_y": null,
      "padding": null,
      "right": null,
      "top": null,
      "visibility": null,
      "width": null
     }
    },
    "7c698661d6db44beb5e8525f0ac2dc5e": {
     "model_module": "@jupyter-widgets/base",
     "model_name": "LayoutModel",
     "state": {
      "_model_module": "@jupyter-widgets/base",
      "_model_module_version": "1.2.0",
      "_model_name": "LayoutModel",
      "_view_count": null,
      "_view_module": "@jupyter-widgets/base",
      "_view_module_version": "1.2.0",
      "_view_name": "LayoutView",
      "align_content": null,
      "align_items": null,
      "align_self": null,
      "border": null,
      "bottom": null,
      "display": null,
      "flex": null,
      "flex_flow": null,
      "grid_area": null,
      "grid_auto_columns": null,
      "grid_auto_flow": null,
      "grid_auto_rows": null,
      "grid_column": null,
      "grid_gap": null,
      "grid_row": null,
      "grid_template_areas": null,
      "grid_template_columns": null,
      "grid_template_rows": null,
      "height": null,
      "justify_content": null,
      "justify_items": null,
      "left": null,
      "margin": null,
      "max_height": null,
      "max_width": null,
      "min_height": null,
      "min_width": null,
      "object_fit": null,
      "object_position": null,
      "order": null,
      "overflow": null,
      "overflow_x": null,
      "overflow_y": null,
      "padding": null,
      "right": null,
      "top": null,
      "visibility": null,
      "width": null
     }
    },
    "8c4ef07a86fc4720a9b21b0dd56e5751": {
     "model_module": "@jupyter-widgets/controls",
     "model_name": "HTMLModel",
     "state": {
      "_dom_classes": [],
      "_model_module": "@jupyter-widgets/controls",
      "_model_module_version": "1.5.0",
      "_model_name": "HTMLModel",
      "_view_count": null,
      "_view_module": "@jupyter-widgets/controls",
      "_view_module_version": "1.5.0",
      "_view_name": "HTMLView",
      "description": "",
      "description_tooltip": null,
      "layout": "IPY_MODEL_60a0696069e249cb9877f02934f5c0be",
      "placeholder": "​",
      "style": "IPY_MODEL_ea91f2718e7a4e569c4df3630ab3180f",
      "value": " 170500096/? [00:09&lt;00:00, 17889021.08it/s]"
     }
    },
    "99565899e53545f58bd6d2e7a94e778b": {
     "model_module": "@jupyter-widgets/base",
     "model_name": "LayoutModel",
     "state": {
      "_model_module": "@jupyter-widgets/base",
      "_model_module_version": "1.2.0",
      "_model_name": "LayoutModel",
      "_view_count": null,
      "_view_module": "@jupyter-widgets/base",
      "_view_module_version": "1.2.0",
      "_view_name": "LayoutView",
      "align_content": null,
      "align_items": null,
      "align_self": null,
      "border": null,
      "bottom": null,
      "display": null,
      "flex": null,
      "flex_flow": null,
      "grid_area": null,
      "grid_auto_columns": null,
      "grid_auto_flow": null,
      "grid_auto_rows": null,
      "grid_column": null,
      "grid_gap": null,
      "grid_row": null,
      "grid_template_areas": null,
      "grid_template_columns": null,
      "grid_template_rows": null,
      "height": null,
      "justify_content": null,
      "justify_items": null,
      "left": null,
      "margin": null,
      "max_height": null,
      "max_width": null,
      "min_height": null,
      "min_width": null,
      "object_fit": null,
      "object_position": null,
      "order": null,
      "overflow": null,
      "overflow_x": null,
      "overflow_y": null,
      "padding": null,
      "right": null,
      "top": null,
      "visibility": null,
      "width": null
     }
    },
    "a69b0d330d7c459289cbd94ae90445b7": {
     "model_module": "@jupyter-widgets/controls",
     "model_name": "ProgressStyleModel",
     "state": {
      "_model_module": "@jupyter-widgets/controls",
      "_model_module_version": "1.5.0",
      "_model_name": "ProgressStyleModel",
      "_view_count": null,
      "_view_module": "@jupyter-widgets/base",
      "_view_module_version": "1.2.0",
      "_view_name": "StyleView",
      "bar_color": null,
      "description_width": "initial"
     }
    },
    "be9618e658a44a7f88008b9ae1c775eb": {
     "model_module": "@jupyter-widgets/base",
     "model_name": "LayoutModel",
     "state": {
      "_model_module": "@jupyter-widgets/base",
      "_model_module_version": "1.2.0",
      "_model_name": "LayoutModel",
      "_view_count": null,
      "_view_module": "@jupyter-widgets/base",
      "_view_module_version": "1.2.0",
      "_view_name": "LayoutView",
      "align_content": null,
      "align_items": null,
      "align_self": null,
      "border": null,
      "bottom": null,
      "display": null,
      "flex": null,
      "flex_flow": null,
      "grid_area": null,
      "grid_auto_columns": null,
      "grid_auto_flow": null,
      "grid_auto_rows": null,
      "grid_column": null,
      "grid_gap": null,
      "grid_row": null,
      "grid_template_areas": null,
      "grid_template_columns": null,
      "grid_template_rows": null,
      "height": null,
      "justify_content": null,
      "justify_items": null,
      "left": null,
      "margin": null,
      "max_height": null,
      "max_width": null,
      "min_height": null,
      "min_width": null,
      "object_fit": null,
      "object_position": null,
      "order": null,
      "overflow": null,
      "overflow_x": null,
      "overflow_y": null,
      "padding": null,
      "right": null,
      "top": null,
      "visibility": null,
      "width": null
     }
    },
    "cf69c78c8479414eb7ed8c64f1996d24": {
     "model_module": "@jupyter-widgets/controls",
     "model_name": "FloatProgressModel",
     "state": {
      "_dom_classes": [],
      "_model_module": "@jupyter-widgets/controls",
      "_model_module_version": "1.5.0",
      "_model_name": "FloatProgressModel",
      "_view_count": null,
      "_view_module": "@jupyter-widgets/controls",
      "_view_module_version": "1.5.0",
      "_view_name": "ProgressView",
      "bar_style": "success",
      "description": "100%",
      "description_tooltip": null,
      "layout": "IPY_MODEL_be9618e658a44a7f88008b9ae1c775eb",
      "max": 46827520,
      "min": 0,
      "orientation": "horizontal",
      "style": "IPY_MODEL_a69b0d330d7c459289cbd94ae90445b7",
      "value": 46827520
     }
    },
    "d1d83cccf4ff40a4b239af0c2638089c": {
     "model_module": "@jupyter-widgets/controls",
     "model_name": "HBoxModel",
     "state": {
      "_dom_classes": [],
      "_model_module": "@jupyter-widgets/controls",
      "_model_module_version": "1.5.0",
      "_model_name": "HBoxModel",
      "_view_count": null,
      "_view_module": "@jupyter-widgets/controls",
      "_view_module_version": "1.5.0",
      "_view_name": "HBoxView",
      "box_style": "",
      "children": [
       "IPY_MODEL_cf69c78c8479414eb7ed8c64f1996d24",
       "IPY_MODEL_34bb839dbeea487684269a6b5e94d8df"
      ],
      "layout": "IPY_MODEL_99565899e53545f58bd6d2e7a94e778b"
     }
    },
    "e52e7f92fdf84d5dbc628c59a6381ee2": {
     "model_module": "@jupyter-widgets/controls",
     "model_name": "FloatProgressModel",
     "state": {
      "_dom_classes": [],
      "_model_module": "@jupyter-widgets/controls",
      "_model_module_version": "1.5.0",
      "_model_name": "FloatProgressModel",
      "_view_count": null,
      "_view_module": "@jupyter-widgets/controls",
      "_view_module_version": "1.5.0",
      "_view_name": "ProgressView",
      "bar_style": "success",
      "description": "",
      "description_tooltip": null,
      "layout": "IPY_MODEL_ef529408d30a40d298b64edf9482b8d4",
      "max": 1,
      "min": 0,
      "orientation": "horizontal",
      "style": "IPY_MODEL_fd8af37706c94630b4d70dc572ebbee9",
      "value": 1
     }
    },
    "ea91f2718e7a4e569c4df3630ab3180f": {
     "model_module": "@jupyter-widgets/controls",
     "model_name": "DescriptionStyleModel",
     "state": {
      "_model_module": "@jupyter-widgets/controls",
      "_model_module_version": "1.5.0",
      "_model_name": "DescriptionStyleModel",
      "_view_count": null,
      "_view_module": "@jupyter-widgets/base",
      "_view_module_version": "1.2.0",
      "_view_name": "StyleView",
      "description_width": ""
     }
    },
    "ef529408d30a40d298b64edf9482b8d4": {
     "model_module": "@jupyter-widgets/base",
     "model_name": "LayoutModel",
     "state": {
      "_model_module": "@jupyter-widgets/base",
      "_model_module_version": "1.2.0",
      "_model_name": "LayoutModel",
      "_view_count": null,
      "_view_module": "@jupyter-widgets/base",
      "_view_module_version": "1.2.0",
      "_view_name": "LayoutView",
      "align_content": null,
      "align_items": null,
      "align_self": null,
      "border": null,
      "bottom": null,
      "display": null,
      "flex": null,
      "flex_flow": null,
      "grid_area": null,
      "grid_auto_columns": null,
      "grid_auto_flow": null,
      "grid_auto_rows": null,
      "grid_column": null,
      "grid_gap": null,
      "grid_row": null,
      "grid_template_areas": null,
      "grid_template_columns": null,
      "grid_template_rows": null,
      "height": null,
      "justify_content": null,
      "justify_items": null,
      "left": null,
      "margin": null,
      "max_height": null,
      "max_width": null,
      "min_height": null,
      "min_width": null,
      "object_fit": null,
      "object_position": null,
      "order": null,
      "overflow": null,
      "overflow_x": null,
      "overflow_y": null,
      "padding": null,
      "right": null,
      "top": null,
      "visibility": null,
      "width": null
     }
    },
    "fb23f4705eea40f8a452db88c43a5933": {
     "model_module": "@jupyter-widgets/base",
     "model_name": "LayoutModel",
     "state": {
      "_model_module": "@jupyter-widgets/base",
      "_model_module_version": "1.2.0",
      "_model_name": "LayoutModel",
      "_view_count": null,
      "_view_module": "@jupyter-widgets/base",
      "_view_module_version": "1.2.0",
      "_view_name": "LayoutView",
      "align_content": null,
      "align_items": null,
      "align_self": null,
      "border": null,
      "bottom": null,
      "display": null,
      "flex": null,
      "flex_flow": null,
      "grid_area": null,
      "grid_auto_columns": null,
      "grid_auto_flow": null,
      "grid_auto_rows": null,
      "grid_column": null,
      "grid_gap": null,
      "grid_row": null,
      "grid_template_areas": null,
      "grid_template_columns": null,
      "grid_template_rows": null,
      "height": null,
      "justify_content": null,
      "justify_items": null,
      "left": null,
      "margin": null,
      "max_height": null,
      "max_width": null,
      "min_height": null,
      "min_width": null,
      "object_fit": null,
      "object_position": null,
      "order": null,
      "overflow": null,
      "overflow_x": null,
      "overflow_y": null,
      "padding": null,
      "right": null,
      "top": null,
      "visibility": null,
      "width": null
     }
    },
    "fd8af37706c94630b4d70dc572ebbee9": {
     "model_module": "@jupyter-widgets/controls",
     "model_name": "ProgressStyleModel",
     "state": {
      "_model_module": "@jupyter-widgets/controls",
      "_model_module_version": "1.5.0",
      "_model_name": "ProgressStyleModel",
      "_view_count": null,
      "_view_module": "@jupyter-widgets/base",
      "_view_module_version": "1.2.0",
      "_view_name": "StyleView",
      "bar_color": null,
      "description_width": "initial"
     }
    }
   }
  }
 },
 "nbformat": 4,
 "nbformat_minor": 2
}
